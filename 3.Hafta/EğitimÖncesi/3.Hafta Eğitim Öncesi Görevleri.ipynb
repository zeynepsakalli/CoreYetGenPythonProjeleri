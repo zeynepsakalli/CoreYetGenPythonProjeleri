{
  "cells": [
    {
      "cell_type": "markdown",
      "metadata": {
        "id": "tsD4YVAe_Te2"
      },
      "source": [
        "# Problem 1\n",
        "Bir sayının 7'ye bölünebilir olup olmadığını kontrol etmek \n",
        "için bir program yazın.\n",
        "\n",
        "İpucu: Mod operatörünü (%) kullanabilirsiniz."
      ]
    },
    {
      "cell_type": "code",
      "execution_count": 7,
      "metadata": {
        "id": "NGjvNwKx_Te7"
      },
      "outputs": [
        {
          "name": "stdout",
          "output_type": "stream",
          "text": [
            "Sayı 7'ye bölünebilir.\n"
          ]
        }
      ],
      "source": [
        "sayi = int(input(\"Bir sayı gir.\"))\n",
        "if sayi % 7 == 0:\n",
        "    print(\"Sayı 7ye bölünebilir.\")\n"
      ]
    },
    {
      "cell_type": "markdown",
      "metadata": {
        "id": "Kg3qiBAI_Te8"
      },
      "source": [
        "# Problem 2\n",
        "Kullanıcıdan vize ve final notu isteyin. Girilen vize notunun %40’ı ve \n",
        "girilen finalnotunun ise %60’ı alınarak yıl sonu not ortalaması hesaplanacaktır. \n",
        "\n",
        "Bu not ortalaması eğer 85 ve üzeri ise AA, \n",
        "\n",
        "75 ve 85 arasında ise BA, \n",
        "\n",
        "70 ve 75 arasında ise BB, \n",
        "\n",
        "65 ve 70 arasında ise CB,\n",
        "\n",
        "60 ve 65 arasında ise CC,\n",
        "\n",
        "55 ve 60 arasında ise DC,\n",
        "\n",
        "50 ve 55 arasında ise DD olarak hesaplanacaktır. \n",
        "\n",
        "Bu öğrencinin yıl sonu toplam notu 50’nin altında ise FF ile dersten kalacaktır. \n",
        "\n",
        "Ayrıca öğrencinin final notu 50’nin altında ise direkt FF ile kalacaktır."
      ]
    },
    {
      "cell_type": "code",
      "execution_count": 62,
      "metadata": {
        "id": "MXTtCxI1_Te8"
      },
      "outputs": [
        {
          "name": "stdout",
          "output_type": "stream",
          "text": [
            "CB alarak başarıyla geçtiniz.\n"
          ]
        }
      ],
      "source": [
        "vize = int(input(\"vize notu giriniz.\"))\n",
        "final = int(input(\"final notu giriniz.\"))\n",
        "ortalama = vize*0.4 + final*0.6\n",
        "if final >= 50:\n",
        "    if ortalama >= 85:\n",
        "        print(\"AA alarak başarıyla geçtiniz.\")\n",
        "    elif ortalama >= 75:\n",
        "        print(\"BA alarak başarıyla geçtiniz.\")\n",
        "    elif ortalama >= 70:\n",
        "        print(\"BB alarak başarıyla geçtiniz.\")\n",
        "    elif ortalama >= 65:\n",
        "        print(\"CB alarak başarıyla geçtiniz.\")\n",
        "    elif ortalama >= 60:\n",
        "        print(\"CC alarak başarıyla geçtiniz.\")\n",
        "    elif  ortalama >= 55:\n",
        "        print(\"DC  alarak başarıyla geçtiniz.\")\n",
        "    elif ortalama >= 50:\n",
        "        print(\"DD alarak başarıyla geçtiniz.\")\n",
        "    else:\n",
        "        print(\"FF alarak kaldınız.\")\n",
        "else:\n",
        "    print(\"Final notunuzun 50'nin altında olduğu için FF ile kaldınız.\")"
      ]
    },
    {
      "cell_type": "markdown",
      "metadata": {
        "id": "tAoRYCTC_Te8"
      },
      "source": [
        "# Problem 3\n",
        "İki YetGenli Zirve'de karşılaşıyorlar. Birbirlerini tanımak için sorular soruyorlar. Birbirlerine yaşlarını soruyorlar. Akıllarına bir Python programı yazıp, yaşlarını ve isimlerini giriyorlar. Büyük olanın yaşını ekrana yazdıran programı yazıyorlar. Sende bu iki YetGenli'ye destek olmak ister misin?\n",
        "\n",
        "```\n",
        "Birinci YetGenlinin ismi: Ahmet\n",
        "Birinci YetGenlinin yaşı : 20\n",
        "İkinci YetGenlinin ismi: Mehmet\n",
        "İkinci YetGenlinin yaşı : 25\n",
        "Mehmet'in yaşı daha büyük ve yaşı 25'tir.\n",
        "```"
      ]
    },
    {
      "cell_type": "code",
      "execution_count": 41,
      "metadata": {
        "id": "bPjE8W0i_Te8"
      },
      "outputs": [
        {
          "name": "stdout",
          "output_type": "stream",
          "text": [
            "ömer\n"
          ]
        }
      ],
      "source": [
        "isim1 = input(\"İsim giriniz.\")\n",
        "isim2 = input(\"İsim giriniz.\")\n",
        "yas1 = int(input(\"Yaş giriniz.\"))\n",
        "yas2 = int(input(\"Yaş giriniz.\"))\n",
        "\n",
        "if yas1 > yas2:\n",
        "    print( isim1)\n",
        "if yas1 < yas2:\n",
        "    print(isim2)\n",
        "\n"
      ]
    },
    {
      "cell_type": "markdown",
      "metadata": {
        "id": "zBVv8Tyg_Te9"
      },
      "source": [
        "# Problem 4\n",
        "Pandemi döneminde AVM'lerde ateş ölçümü yapılıyor. AVM'ye giren kişinin ateş ölçümü 37.5 derecenin altında ise girişe izin veriliyor. 37.5 derecenin üstünde ise girişe izin verilmiyor. AVM'ye girişe izin verilip verilmediğini ekrana yazdıran bir program yazın.\n",
        "\n",
        "Program sonunda şöyle bir çıktı elde etmelisiniz:\n",
        "\n",
        "```\n",
        "Ateşiniz 37.5 derece. AVM'ye girebilirsin! Maske takmayı unutma!\n",
        "Ateşiniz 37.6 derece. AVM'ye giremezsin! Hemen evine dön!\n",
        "```"
      ]
    },
    {
      "cell_type": "code",
      "execution_count": 43,
      "metadata": {
        "id": "TSAXs8et_Te9"
      },
      "outputs": [
        {
          "name": "stdout",
          "output_type": "stream",
          "text": [
            "Ateşiniz 37.5. AVM'ye girebilirsiniz. Maske takmayı unutma!\n"
          ]
        }
      ],
      "source": [
        "# 4.Problemin Çözümünü Buraya Yazınız\n",
        "\n",
        "ates = int(input(\"Ateş ölçüm sonucu\"))\n",
        "\n",
        "if ates < 37.5:\n",
        "    print(\"Ateşiniz 37.5 dereceden küçüktür. AVM'ye girebilirsiniz. Maske takmayı unutma!\")\n",
        "if ates > 37.5:\n",
        "    print(\"Ateşiniz 37.5 dereceden yüksek. AVM'ye giremezsiniz. Hemen evine dön!\")"
      ]
    },
    {
      "cell_type": "markdown",
      "metadata": {
        "id": "6AEkZrDt_Te9"
      },
      "source": [
        "# Problem 5\n",
        "YetGen bir spor kulübüyle sponsorluk anlaşması yapıyor. Kulüp, sponsorluk anlaşmasına göre her YetGen liderinin beden kitle indeksini hesaplamak istiyor. Spor kulübü, beden kitle indeksini hesaplamak için YetGen Jump Python liderlerinden Berkcan ve Ahmet'i arıyor. Berkcan ve Ahmet, kulübe yardımcı olmak için bir Python programı yazıyorlar. Sende bu iki YetGen liderine destek olmak ister misin?\n",
        "\n",
        "Kullanıcıdan alınan boy ve kilo değerlerine göre beden kitle indeksini hesaplayın ve şu kurallara göre ekrana şu yazıları yazdırın.\n",
        "\n",
        "\n",
        "Beden Kitle İndeksi, kişinin ağırlığının (kg olarak) boyunun karesine (m olarak) bölünmesiyle hesaplanır.\n",
        "\n",
        "\n",
        "```\n",
        " BKİ 18.5'un altındaysa -------> Zayıf\n",
        "\n",
        " BKİ 18.5 ile 25 arasındaysa ------> Normal\n",
        "\n",
        " BKİ 25 ile 30 arasındaysa --------> Fazla Kilolu\n",
        "\n",
        " BKİ 30'un üstündeyse -------------> Obez\n",
        "```\n",
        "\n"
      ]
    },
    {
      "cell_type": "code",
      "execution_count": 52,
      "metadata": {
        "id": "t-XPI_u0_Te-"
      },
      "outputs": [
        {
          "name": "stdout",
          "output_type": "stream",
          "text": [
            "31.020408163265305\n",
            "Obez.\n"
          ]
        }
      ],
      "source": [
        "# 5.Problemin Çözümünü Buraya Yazınız\n",
        "kilo = int(input(\" kilo değer giriniz.\"))\n",
        "boy = float(input(\"boy değer giriniz.\"))\n",
        "BKİ = kilo/(boy*boy)\n",
        "print (BKİ)\n",
        "\n",
        "if BKİ < 18.5:\n",
        "    print(\"Zayıfsınız.\")\n",
        "\n",
        "elif 18.5< BKİ < 25:\n",
        "    print(\"Normal.\")\n",
        "\n",
        "elif 25< BKİ < 30:\n",
        "    print(\"Fazla kilolu.\")\n",
        "    \n",
        "elif BKİ > 30:\n",
        "    print(\"Obez.\")\n",
        "    \n"
      ]
    },
    {
      "cell_type": "markdown",
      "metadata": {
        "id": "oFsvQyaO_Te-"
      },
      "source": [
        "# Problem 6\n",
        "Kullanıcıdan isim, yaş ve eğitim bilgilerini isteyip ehliyet alabilme  durumunu kontrol ediniz. \n",
        "\n",
        "Ehliyet alma koşulu en az 18 yaşında ve eğitim durumu lise ya da üniversite olmalıdır. "
      ]
    },
    {
      "cell_type": "code",
      "execution_count": 68,
      "metadata": {
        "id": "Tu2mcgco_Te-"
      },
      "outputs": [
        {
          "name": "stdout",
          "output_type": "stream",
          "text": [
            "zeynep ehliyet alabilirsin.\n"
          ]
        }
      ],
      "source": [
        "isim = input('isminiz: ')\n",
        "yas = int(input('yaşınız: '))\n",
        "egitim = input('eğitim: ')\n",
        "\n",
        "if (yas>=18):\n",
        "    if (egitim=='lise' or egitim=='üniversite'):\n",
        "        print(f'{isim} ehliyet alabilirsin.')\n",
        "    else:\n",
        "        print(f'{isim} ehliyet alamazsın eğitim durumun yetersiz.')\n",
        "else:\n",
        "    print(f'{isim} ehliyet alamazsın yaşın tutmuyor.')"
      ]
    },
    {
      "cell_type": "markdown",
      "metadata": {
        "id": "eUkxVSAE_Te_"
      },
      "source": [
        "# Problem 7\n",
        "Bir yılın artık yıl olup olmadığını kontrol etmek için bir program yazın. \n",
        "Artık yıl kuralı:\n",
        "\n",
        "a) Eğer yılın son iki basamağı (00) ile bitmiyor ve yalnızca 4'e tam bölünüyorsa artık yıldır. Ya da, \n",
        "\n",
        "b) Eğer yıl 400'e tam bölünüyorsa artık yıldır.\n",
        "\n",
        "**Örneğin**\n",
        "```\n",
        "2017 artık yıl değildir.\n",
        "1900 artık yıl değildir\n",
        "2012 artık yıldır.\n",
        "2000 artık yıldır.\n",
        "```"
      ]
    },
    {
      "cell_type": "code",
      "execution_count": 59,
      "metadata": {
        "id": "4uWh8qUL_Te_"
      },
      "outputs": [
        {
          "name": "stdout",
          "output_type": "stream",
          "text": [
            "Artık yıldır.\n"
          ]
        }
      ],
      "source": [
        "# 7.Problemin Çözümünü Buraya Yazınız\n",
        "yil = int(input(\"Bir yıl giriniz.\"))\n",
        "if ((yil %100 != 0) and (yil %4 == 0)) or (yil %400 ==0):\n",
        "    print(\"Artık yıldır.\")\n",
        "else: \n",
        "    print(\"Artık yıl değildir.\")"
      ]
    }
  ],
  "metadata": {
    "colab": {
      "provenance": []
    },
    "kernelspec": {
      "display_name": "Python 3.10.5 64-bit",
      "language": "python",
      "name": "python3"
    },
    "language_info": {
      "codemirror_mode": {
        "name": "ipython",
        "version": 3
      },
      "file_extension": ".py",
      "mimetype": "text/x-python",
      "name": "python",
      "nbconvert_exporter": "python",
      "pygments_lexer": "ipython3",
      "version": "3.11.1"
    },
    "orig_nbformat": 4,
    "vscode": {
      "interpreter": {
        "hash": "5026d2d6e7aaaaba093def813beadff083d8733e4a511af01735cbabd156995d"
      }
    }
  },
  "nbformat": 4,
  "nbformat_minor": 0
}
