{
 "cells": [
  {
   "attachments": {},
   "cell_type": "markdown",
   "metadata": {},
   "source": [
    "# Problem 1"
   ]
  },
  {
   "cell_type": "code",
   "execution_count": 19,
   "metadata": {},
   "outputs": [
    {
     "name": "stdout",
     "output_type": "stream",
     "text": [
      "[8 7 0 9 4]\n",
      "(5,)\n",
      "[3 1 7 9 7]\n",
      "1\n"
     ]
    }
   ],
   "source": [
    "# 1 - numpy kütüphanesini import edin/\n",
    "import numpy as np\n",
    "\n",
    "# 2 - 0 ile 10 arasında 5 sayıdan oluşan matris üretin.\n",
    "x = np.random.randint(0,10,5)\n",
    "print(x)\n",
    "# 3 - matris'in boyutunu öğrenin.\n",
    "x = np.random.randint(0,10,5)\n",
    "print(x.shape)\n",
    "\n",
    "# 4 - matris'i yeniden boyutlandırın.\n",
    "x = np.random.randint(0,10,5)\n",
    "print(x.reshape(5,))\n",
    "\n",
    "# 5 - matris'in boyut sayısını öğrenin\n",
    "x = np.random.randint(0,10,5)\n",
    "print(x.ndim)"
   ]
  },
  {
   "attachments": {},
   "cell_type": "markdown",
   "metadata": {},
   "source": [
    "# Problem 2"
   ]
  },
  {
   "cell_type": "code",
   "execution_count": 31,
   "metadata": {},
   "outputs": [
    {
     "name": "stdout",
     "output_type": "stream",
     "text": [
      "[1 3 5 7 9]\n",
      "[array([1, 2]), array([3]), array([ 4,  5,  6,  7,  8,  9, 10, 11, 12])]\n",
      "[ 1  2  3  4  5  6  7  8  9 10 11 12]\n"
     ]
    }
   ],
   "source": [
    "# 1 - 0 ile 10 arasında bulunan tek sayılardan oluşan matris üretin.\n",
    "\n",
    "import numpy as np\n",
    "a = np.arange(1,10,2)\n",
    "print(a)\n",
    "\n",
    "# 2 - Oluşturduğunuz matrisi parçalayın.\n",
    "\n",
    "n = np.array([1,2,3,4,5,6,7,8,9,10,11,12])\n",
    "print(np.split(n, [2,3]))\n",
    "\n",
    "# 3 - Parçalanmış matrisleri birleştirin\n",
    "x= np.array([1,2])\n",
    "y= np.array([3])\n",
    "z= np.array([4,5,6,7,8,9,10,11,12])\n",
    "print(np.concatenate([x,y,z]))\n"
   ]
  },
  {
   "attachments": {},
   "cell_type": "markdown",
   "metadata": {},
   "source": [
    "# Problem 3"
   ]
  },
  {
   "cell_type": "code",
   "execution_count": 36,
   "metadata": {},
   "outputs": [
    {
     "name": "stdout",
     "output_type": "stream",
     "text": [
      "[ 5  7  9 11 13 15 17 19 21 23 25 27 29 31 33 35 37 39 41 43 45 47 49 51\n",
      " 53 55 57 59 61 63 65 67 69 71 73 75 77 79 81 83 85 87 89 91 93 95 97 99]\n",
      "1\n",
      "48\n",
      "int32\n",
      "(48,)\n"
     ]
    }
   ],
   "source": [
    "# 1 - 5 ile 100 arasında ikişer ikişer atlayarak rastgele 10 sayıdan oluşan matris üretin.\n",
    "\n",
    "v = np.arange(5,100,2)\n",
    "print(v)\n",
    "\n",
    "# 2 - matris'in özelliklerini inceleyin.\n",
    "\n",
    "print(v.ndim)\n",
    "print(v.size)\n",
    "print(v.dtype)\n",
    "print(v.shape)\n"
   ]
  }
 ],
 "metadata": {
  "kernelspec": {
   "display_name": "Python 3",
   "language": "python",
   "name": "python3"
  },
  "language_info": {
   "codemirror_mode": {
    "name": "ipython",
    "version": 3
   },
   "file_extension": ".py",
   "mimetype": "text/x-python",
   "name": "python",
   "nbconvert_exporter": "python",
   "pygments_lexer": "ipython3",
   "version": "3.11.1"
  },
  "orig_nbformat": 4,
  "vscode": {
   "interpreter": {
    "hash": "5026d2d6e7aaaaba093def813beadff083d8733e4a511af01735cbabd156995d"
   }
  }
 },
 "nbformat": 4,
 "nbformat_minor": 2
}
