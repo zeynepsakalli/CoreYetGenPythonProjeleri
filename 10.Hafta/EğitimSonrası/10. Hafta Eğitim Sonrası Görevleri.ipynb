{
 "cells": [
  {
   "attachments": {},
   "cell_type": "markdown",
   "metadata": {},
   "source": [
    "# Problem 1 "
   ]
  },
  {
   "cell_type": "code",
   "execution_count": 7,
   "metadata": {},
   "outputs": [],
   "source": [
    "# 1 - numpy kütüphanesini import edin\n",
    "import numpy as np\n",
    "\n"
   ]
  },
  {
   "cell_type": "code",
   "execution_count": 8,
   "metadata": {},
   "outputs": [
    {
     "name": "stdout",
     "output_type": "stream",
     "text": [
      "[9 8 7 4 5]\n"
     ]
    }
   ],
   "source": [
    "# 2 - 5 elemanlı bir numpy array oluşturun\n",
    "x = np.array([9,8,7,4,5])\n",
    "print(x)"
   ]
  },
  {
   "cell_type": "code",
   "execution_count": 11,
   "metadata": {},
   "outputs": [
    {
     "name": "stdout",
     "output_type": "stream",
     "text": [
      "[4 5 7 8 9]\n"
     ]
    }
   ],
   "source": [
    "# 3 - Oluşturduğunuz arrayi küçükten büyüğe sıralayın.\n",
    "x = np.array([9,8,7,4,5])\n",
    "print(x)\n",
    "x.sort()\n",
    "print(x)"
   ]
  },
  {
   "attachments": {},
   "cell_type": "markdown",
   "metadata": {},
   "source": [
    "# Problem 2"
   ]
  },
  {
   "cell_type": "code",
   "execution_count": 13,
   "metadata": {},
   "outputs": [
    {
     "name": "stdout",
     "output_type": "stream",
     "text": [
      "[10 15 30 45 60]\n"
     ]
    }
   ],
   "source": [
    "# 1- (10,15,30,45,60) değerlerine sahip numpy dizisi oluşturunuz.\n",
    "v = np.array([10,15,30,45,60])\n",
    "print(v)"
   ]
  },
  {
   "cell_type": "code",
   "execution_count": 21,
   "metadata": {},
   "outputs": [
    {
     "name": "stdout",
     "output_type": "stream",
     "text": [
      "[ 5  6  7  8  9 10 11 12 13 14]\n"
     ]
    }
   ],
   "source": [
    "# 2- (5-15) arasındaki sayılarla numpy dizisi oluşturunuz.\n",
    "x = np.arange(5,15)\n",
    "print(x)"
   ]
  },
  {
   "cell_type": "code",
   "execution_count": 23,
   "metadata": {},
   "outputs": [
    {
     "name": "stdout",
     "output_type": "stream",
     "text": [
      "[50 55 60 65 70 75 80 85 90 95]\n"
     ]
    }
   ],
   "source": [
    "# 3- (50-100) arasında 5'er 5'er artarak numpy dizisi oluşturunuz.\n",
    "x = np.arange(50,100,5)\n",
    "print(x)"
   ]
  },
  {
   "cell_type": "code",
   "execution_count": 24,
   "metadata": {},
   "outputs": [
    {
     "data": {
      "text/plain": [
       "array([0., 0., 0., 0., 0., 0., 0., 0., 0., 0.])"
      ]
     },
     "execution_count": 24,
     "metadata": {},
     "output_type": "execute_result"
    }
   ],
   "source": [
    "# 4- 10 elemanlı sıfırlardan oluşan bir dizi oluşturunuz.\n",
    "np.zeros(10)"
   ]
  },
  {
   "cell_type": "code",
   "execution_count": 25,
   "metadata": {},
   "outputs": [
    {
     "data": {
      "text/plain": [
       "array([1., 1., 1., 1., 1., 1., 1., 1., 1., 1.])"
      ]
     },
     "execution_count": 25,
     "metadata": {},
     "output_type": "execute_result"
    }
   ],
   "source": [
    "# 5- 10 elemanlı birlerden oluşan bir dizi oluşturunuz.\n",
    "np.ones(10)"
   ]
  },
  {
   "cell_type": "code",
   "execution_count": 26,
   "metadata": {},
   "outputs": [
    {
     "data": {
      "text/plain": [
       "array([  0.,  25.,  50.,  75., 100.])"
      ]
     },
     "execution_count": 26,
     "metadata": {},
     "output_type": "execute_result"
    }
   ],
   "source": [
    "# 6- (0-100) arasında eşit aralıklı 5 sayı üretin.\n",
    "np.linspace(0,100,5)"
   ]
  },
  {
   "cell_type": "code",
   "execution_count": 28,
   "metadata": {},
   "outputs": [
    {
     "data": {
      "text/plain": [
       "array([10, 15, 18, 26, 12])"
      ]
     },
     "execution_count": 28,
     "metadata": {},
     "output_type": "execute_result"
    }
   ],
   "source": [
    "# 7- (10-30) arasında rastgele 5 tane tamsayı üretin.\n",
    "np.random.randint(10,30,5)"
   ]
  },
  {
   "cell_type": "code",
   "execution_count": 43,
   "metadata": {},
   "outputs": [
    {
     "data": {
      "text/plain": [
       "array([ 0, -1,  0,  0, -1,  0, -1,  0,  0, -1])"
      ]
     },
     "execution_count": 43,
     "metadata": {},
     "output_type": "execute_result"
    }
   ],
   "source": [
    "# 8- [-1 ile 1] arasında 10 adet sayı üretin.\n",
    "np.random.randint(-1,1,10)                      "
   ]
  },
  {
   "cell_type": "code",
   "execution_count": 47,
   "metadata": {},
   "outputs": [
    {
     "name": "stdout",
     "output_type": "stream",
     "text": [
      "[[31 18 36 21 24]\n",
      " [34 27 32 27 37]\n",
      " [25 16 23 24 41]]\n"
     ]
    }
   ],
   "source": [
    "# 9- (3x5) boyutlarında (10-50) arasında rastgele bir matris oluşturunuz.\n",
    "b= np.random.randint(10, 50, size = [3,5])\n",
    "print(b)                                          "
   ]
  },
  {
   "cell_type": "code",
   "execution_count": 28,
   "metadata": {},
   "outputs": [
    {
     "name": "stdout",
     "output_type": "stream",
     "text": [
      "Satırların Toplamı\n",
      "[151 151 135]\n",
      "Sütünların Toplamı\n",
      "[118  46 102  77  94]\n"
     ]
    }
   ],
   "source": [
    "# 10- Üretilen matrisin satır ve sütun sayıları toplamlarını hesaplayınız ??????????????????????????????????????\n",
    "b= np.random.randint(10, 50, size = [3,5])\n",
    "satirTopla = b.sum(axis=1)\n",
    "sutunTopla = b.sum(axis=0)\n",
    "print(\"Satırların Toplamı\")\n",
    "print(satirTopla)\n",
    "print(\"Sütünların Toplamı\")\n",
    "print(sutunTopla)\n"
   ]
  },
  {
   "cell_type": "code",
   "execution_count": 29,
   "metadata": {},
   "outputs": [
    {
     "name": "stdout",
     "output_type": "stream",
     "text": [
      "42\n",
      "10\n",
      "29.133333333333333\n",
      "108.64888888888889\n"
     ]
    }
   ],
   "source": [
    "# 11- Üretilen matrisin en büyük, en küçük ve ortalaması nedir ?\n",
    "\n",
    "buyuk = b.max()\n",
    "print(buyuk)\n",
    "\n",
    "kucuk = b.min()\n",
    "print(kucuk)\n",
    "\n",
    "ortalama= b.mean()\n",
    "print(ortalama)\n",
    "\n",
    "varyans = b.var()\n",
    "print(varyans)\n",
    "\n"
   ]
  },
  {
   "cell_type": "code",
   "execution_count": 59,
   "metadata": {},
   "outputs": [
    {
     "name": "stdout",
     "output_type": "stream",
     "text": [
      "49\n"
     ]
    }
   ],
   "source": [
    "# 12- Üretilen matrisin en büyük değerinin indeksi kaçtır ?            ??????????SOR\n",
    "b= np.random.randint(10, 50, size = [3,5])\n",
    "buyuk = b.max()\n",
    "print(buyuk)"
   ]
  },
  {
   "cell_type": "code",
   "execution_count": 60,
   "metadata": {},
   "outputs": [
    {
     "name": "stdout",
     "output_type": "stream",
     "text": [
      "[10 11 12]\n",
      "[19 18 17 16 15 14 13 12 11 10]\n",
      "10\n"
     ]
    },
    {
     "ename": "IndexError",
     "evalue": "too many indices for array: array is 1-dimensional, but 2 were indexed",
     "output_type": "error",
     "traceback": [
      "\u001b[1;31m---------------------------------------------------------------------------\u001b[0m",
      "\u001b[1;31mIndexError\u001b[0m                                Traceback (most recent call last)",
      "Cell \u001b[1;32mIn[60], line 22\u001b[0m\n\u001b[0;32m     20\u001b[0m \u001b[39mimport\u001b[39;00m \u001b[39mnumpy\u001b[39;00m \u001b[39mas\u001b[39;00m \u001b[39mnp\u001b[39;00m\n\u001b[0;32m     21\u001b[0m a \u001b[39m=\u001b[39m np\u001b[39m.\u001b[39marange(\u001b[39m10\u001b[39m,\u001b[39m20\u001b[39m)\n\u001b[1;32m---> 22\u001b[0m eleman \u001b[39m=\u001b[39ma[\u001b[39m1\u001b[39;49m,\u001b[39m2\u001b[39;49m]                                                \u001b[39m#index mantığını unutma!!\u001b[39;00m\n\u001b[0;32m     23\u001b[0m \u001b[39mprint\u001b[39m(eleman)\n\u001b[0;32m     26\u001b[0m \u001b[39m# 17- Üretilen matrisin tüm satırlardaki ilk elemanı seçiniz.\u001b[39;00m\n",
      "\u001b[1;31mIndexError\u001b[0m: too many indices for array: array is 1-dimensional, but 2 were indexed"
     ]
    }
   ],
   "source": [
    "# 13- (10-20) arasındaki sayıları içeren dizinin ilk 3 elemanını seçiniz.   \n",
    "import numpy as np\n",
    "a = np.arange(10,20)\n",
    "ucEleman = a[:3]\n",
    "print(ucEleman)\n",
    "\n",
    "# 14- Üretilen dizinin elemanlarını tersten yazdırın.\n",
    "import numpy as np\n",
    "a = np.arange(10,20)\n",
    "tersi = a[::-1]\n",
    "print(tersi)\n",
    "\n",
    "# 15- Üretilen matrisin ilk satırını seçiniz.\n",
    "import numpy as np\n",
    "a = np.arange(10,20)\n",
    "satir1 = a[0]\n",
    "print(satir1)\n",
    "\n",
    "# 16- Üretilen matrisin 2.satır 3.sütundaki elemanı hangisidir?\n",
    "import numpy as np\n",
    " = np.arange(10,20)\n",
    "eleman =a[1,2]                                                #index mantığını unutma!!\n",
    "print(eleman)\n",
    "\n",
    "\n",
    "# 17- Üretilen matrisin tüm satırlardaki ilk elemanı seçiniz.\n",
    "\n",
    "eleman1 = b[:,0]\n",
    "print(eleman1)\n",
    "\n",
    "# 18- Üretilen matrisin her bir elemanının karesini alınız.\n",
    "square = np.power(b, 2)\n",
    "print(square)\n",
    "\n",
    "# 19- Üretilen matris elemanlarının hangisi pozitif çift sayıdır ? Aralığı (-50,+50) arasında yapınız.\n",
    "\n"
   ]
  }
 ],
 "metadata": {
  "kernelspec": {
   "display_name": "Python 3",
   "language": "python",
   "name": "python3"
  },
  "language_info": {
   "codemirror_mode": {
    "name": "ipython",
    "version": 3
   },
   "file_extension": ".py",
   "mimetype": "text/x-python",
   "name": "python",
   "nbconvert_exporter": "python",
   "pygments_lexer": "ipython3",
   "version": "3.11.1"
  },
  "orig_nbformat": 4,
  "vscode": {
   "interpreter": {
    "hash": "5026d2d6e7aaaaba093def813beadff083d8733e4a511af01735cbabd156995d"
   }
  }
 },
 "nbformat": 4,
 "nbformat_minor": 2
}
